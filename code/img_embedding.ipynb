{
 "cells": [
  {
   "cell_type": "code",
   "execution_count": null,
   "metadata": {},
   "outputs": [],
   "source": [
    "!pip install transformers\n",
    "!pip install datasets"
   ]
  },
  {
   "cell_type": "code",
   "execution_count": 1,
   "metadata": {},
   "outputs": [],
   "source": [
    "import torch\n",
    "from datasets import load_dataset\n",
    "from transformers import AutoFeatureExtractor"
   ]
  },
  {
   "cell_type": "code",
   "execution_count": 3,
   "metadata": {},
   "outputs": [],
   "source": [
    "def fetch_embedding(pre_trained_model, images):\n",
    "    inputs = None\n",
    "    model = None\n",
    "\n",
    "    if pre_trained_model == \"BEiT\":\n",
    "        from transformers import BeitFeatureExtractor, BeitModel\n",
    "        feature_extractor = BeitFeatureExtractor.from_pretrained(\"microsoft/beit-base-patch16-224-pt22k\")\n",
    "        model = BeitModel.from_pretrained(\"microsoft/beit-base-patch16-224-pt22k\")\n",
    "        inputs = feature_extractor(images, return_tensors=\"pt\")\n",
    "\n",
    "    elif pre_trained_model == \"ConvNeXT\":\n",
    "        from transformers import ConvNextFeatureExtractor, ConvNextModel\n",
    "        feature_extractor = ConvNextFeatureExtractor.from_pretrained(\"facebook/convnext-tiny-224\")\n",
    "        model = ConvNextModel.from_pretrained(\"facebook/convnext-tiny-224\")\n",
    "        inputs = feature_extractor(images, return_tensors=\"pt\")\n",
    "\n",
    "    elif pre_trained_model == \"CvT\":\n",
    "        from transformers import AutoFeatureExtractor, CvtModel\n",
    "        feature_extractor = AutoFeatureExtractor.from_pretrained(\"microsoft/cvt-13\")\n",
    "        model = CvtModel.from_pretrained(\"microsoft/cvt-13\")\n",
    "        inputs = feature_extractor(images, return_tensors=\"pt\")\n",
    "\n",
    "    elif pre_trained_model == \"ResNet\":\n",
    "        from transformers import AutoFeatureExtractor, ResNetModel\n",
    "        feature_extractor = AutoFeatureExtractor.from_pretrained(\"microsoft/resnet-50\")\n",
    "        model = ResNetModel.from_pretrained(\"microsoft/resnet-50\")\n",
    "        inputs = feature_extractor(images, return_tensors=\"pt\")\n",
    "\n",
    "    elif pre_trained_model == \"VAN\":\n",
    "        from transformers import AutoFeatureExtractor, VanModel\n",
    "        feature_extractor = AutoFeatureExtractor.from_pretrained(\"Visual-Attention-Network/van-base\")\n",
    "        model = VanModel.from_pretrained(\"Visual-Attention-Network/van-base\")\n",
    "        inputs = feature_extractor(images, return_tensors=\"pt\")\n",
    "\n",
    "    elif pre_trained_model == \"ViT\":\n",
    "        from transformers import ViTFeatureExtractor, ViTModel\n",
    "        feature_extractor = ViTFeatureExtractor.from_pretrained(\"google/vit-base-patch16-224-in21k\")\n",
    "        model = ViTModel.from_pretrained(\"google/vit-base-patch16-224-in21k\")\n",
    "        inputs = feature_extractor(images, return_tensors=\"pt\")\n",
    "\n",
    "    else:\n",
    "        raise NotImplementedError\n",
    "\n",
    "    with torch.no_grad():\n",
    "        outputs = model(**inputs)\n",
    "\n",
    "    last_hidden_states = outputs.last_hidden_state\n",
    "    return last_hidden_states"
   ]
  },
  {
   "cell_type": "code",
   "execution_count": 5,
   "metadata": {},
   "outputs": [
    {
     "name": "stderr",
     "output_type": "stream",
     "text": [
      "No config specified, defaulting to: cats-image/image\n",
      "Found cached dataset cats-image (C:/Users/RexZC/.cache/huggingface/datasets/huggingface___cats-image/image/1.9.0/68fbc793fb10cd165e490867f5d61fa366086ea40c73e549a020103dcb4f597e)\n"
     ]
    },
    {
     "data": {
      "application/vnd.jupyter.widget-view+json": {
       "model_id": "b71c70523ca64405ae697c02399a7ab5",
       "version_major": 2,
       "version_minor": 0
      },
      "text/plain": [
       "  0%|          | 0/1 [00:00<?, ?it/s]"
      ]
     },
     "metadata": {},
     "output_type": "display_data"
    }
   ],
   "source": [
    "dataset = load_dataset(\"huggingface/cats-image\")\n",
    "images = dataset[\"test\"][\"image\"][:2]"
   ]
  },
  {
   "cell_type": "code",
   "execution_count": 14,
   "metadata": {},
   "outputs": [
    {
     "data": {
      "application/vnd.jupyter.widget-view+json": {
       "model_id": "b42578fe34224ee0b1b7ad6125208072",
       "version_major": 2,
       "version_minor": 0
      },
      "text/plain": [
       "Downloading:   0%|          | 0.00/160 [00:00<?, ?B/s]"
      ]
     },
     "metadata": {},
     "output_type": "display_data"
    },
    {
     "data": {
      "application/vnd.jupyter.widget-view+json": {
       "model_id": "fea63fe4daaf4284b0b1ac7cb53a9848",
       "version_major": 2,
       "version_minor": 0
      },
      "text/plain": [
       "Downloading:   0%|          | 0.00/502 [00:00<?, ?B/s]"
      ]
     },
     "metadata": {},
     "output_type": "display_data"
    },
    {
     "data": {
      "application/vnd.jupyter.widget-view+json": {
       "model_id": "6af685898c5241b2beef8fd15504ef69",
       "version_major": 2,
       "version_minor": 0
      },
      "text/plain": [
       "Downloading:   0%|          | 0.00/346M [00:00<?, ?B/s]"
      ]
     },
     "metadata": {},
     "output_type": "display_data"
    },
    {
     "data": {
      "text/plain": [
       "tensor([[ 0.1559,  0.0914,  0.1518,  ..., -0.3180, -0.0859, -0.0903],\n",
       "        [-0.2254,  0.0864,  0.4752,  ..., -0.1781,  0.1726,  0.1334],\n",
       "        [ 0.0444,  0.0677,  0.4199,  ..., -0.2576,  0.1191,  0.0130],\n",
       "        ...,\n",
       "        [-0.0153, -0.0396,  0.1684,  ..., -0.1672,  0.1869,  0.1025],\n",
       "        [ 0.0249, -0.0382,  0.2046,  ...,  0.0517,  0.1489,  0.1320],\n",
       "        [-0.1748, -0.0254,  0.2523,  ..., -0.1474,  0.1627,  0.1325]])"
      ]
     },
     "execution_count": 14,
     "metadata": {},
     "output_type": "execute_result"
    }
   ],
   "source": [
    "temp = fetch_embedding(pre_trained_model=\"ViT\", images=images)\n",
    "temp[0]"
   ]
  },
  {
   "cell_type": "markdown",
   "metadata": {},
   "source": [
    "# Evaluation"
   ]
  },
  {
   "cell_type": "code",
   "execution_count": 3,
   "metadata": {},
   "outputs": [
    {
     "data": {
      "text/plain": [
       "0.75"
      ]
     },
     "execution_count": 3,
     "metadata": {},
     "output_type": "execute_result"
    }
   ],
   "source": [
    "import numpy as np\n",
    "from sklearn import metrics\n",
    "y = np.array([1, 1, 2, 2])\n",
    "pred = np.array([0.1, 0.4, 0.35, 0.8])\n",
    "fpr, tpr, thresholds = metrics.roc_curve(y, pred, pos_label=2)\n",
    "metrics.auc(fpr, tpr)"
   ]
  },
  {
   "cell_type": "code",
   "execution_count": 5,
   "metadata": {},
   "outputs": [],
   "source": [
    "import numpy as np\n",
    "\n",
    "from sklearn import datasets\n",
    "\n",
    "# Import some data to play with\n",
    "iris = datasets.load_iris()\n",
    "X = iris.data\n",
    "y = iris.target\n",
    "X, y = X[y != 2], y[y != 2]\n",
    "n_samples, n_features = X.shape\n",
    "\n",
    "# Add noisy features\n",
    "random_state = np.random.RandomState(0)\n",
    "X = np.c_[X, random_state.randn(n_samples, 200 * n_features)]"
   ]
  },
  {
   "cell_type": "code",
   "execution_count": 6,
   "metadata": {},
   "outputs": [
    {
     "data": {
      "image/png": "[encoded data removed]",
      "text/plain": [
       "<Figure size 432x288 with 1 Axes>"
      ]
     },
     "metadata": {
      "needs_background": "light"
     },
     "output_type": "display_data"
    }
   ],
   "source": [
    "import matplotlib.pyplot as plt\n",
    "\n",
    "from sklearn import svm\n",
    "from sklearn.metrics import auc\n",
    "from sklearn.metrics import RocCurveDisplay\n",
    "from sklearn.model_selection import StratifiedKFold\n",
    "\n",
    "# Run classifier with cross-validation and plot ROC curves\n",
    "cv = StratifiedKFold(n_splits=6)\n",
    "classifier = svm.SVC(kernel=\"linear\", probability=True, random_state=random_state)\n",
    "\n",
    "tprs = []\n",
    "aucs = []\n",
    "mean_fpr = np.linspace(0, 1, 100)\n",
    "\n",
    "fig, ax = plt.subplots()\n",
    "for i, (train, test) in enumerate(cv.split(X, y)):\n",
    "    classifier.fit(X[train], y[train])\n",
    "    viz = RocCurveDisplay.from_estimator(\n",
    "        classifier,\n",
    "        X[test],\n",
    "        y[test],\n",
    "        name=\"ROC fold {}\".format(i),\n",
    "        alpha=0.3,\n",
    "        lw=1,\n",
    "        ax=ax,\n",
    "    )\n",
    "    interp_tpr = np.interp(mean_fpr, viz.fpr, viz.tpr)\n",
    "    interp_tpr[0] = 0.0\n",
    "    tprs.append(interp_tpr)\n",
    "    aucs.append(viz.roc_auc)\n",
    "\n",
    "ax.plot([0, 1], [0, 1], linestyle=\"--\", lw=2, color=\"r\", label=\"Chance\", alpha=0.8)\n",
    "\n",
    "mean_tpr = np.mean(tprs, axis=0)\n",
    "mean_tpr[-1] = 1.0\n",
    "mean_auc = auc(mean_fpr, mean_tpr)\n",
    "std_auc = np.std(aucs)\n",
    "ax.plot(\n",
    "    mean_fpr,\n",
    "    mean_tpr,\n",
    "    color=\"b\",\n",
    "    label=r\"Mean ROC (AUC = %0.2f $\\pm$ %0.2f)\" % (mean_auc, std_auc),\n",
    "    lw=2,\n",
    "    alpha=0.8,\n",
    ")\n",
    "\n",
    "std_tpr = np.std(tprs, axis=0)\n",
    "tprs_upper = np.minimum(mean_tpr + std_tpr, 1)\n",
    "tprs_lower = np.maximum(mean_tpr - std_tpr, 0)\n",
    "ax.fill_between(\n",
    "    mean_fpr,\n",
    "    tprs_lower,\n",
    "    tprs_upper,\n",
    "    color=\"grey\",\n",
    "    alpha=0.2,\n",
    "    label=r\"$\\pm$ 1 std. dev.\",\n",
    ")\n",
    "\n",
    "ax.set(\n",
    "    xlim=[-0.05, 1.05],\n",
    "    ylim=[-0.05, 1.05],\n",
    "    title=\"Receiver operating characteristic example\",\n",
    ")\n",
    "ax.legend(loc=\"lower right\")\n",
    "plt.show()"
   ]
  },
  {
   "cell_type": "markdown",
   "metadata": {},
   "source": [
    "## 1) Group Fairness"
   ]
  },
  {
   "cell_type": "markdown",
   "metadata": {},
   "source": [
    "Defination: the performance gap in diagnosis AUC between the advantaged and disadvantaged subgroups."
   ]
  },
  {
   "cell_type": "markdown",
   "metadata": {},
   "source": [
    "### a. Gender"
   ]
  },
  {
   "cell_type": "code",
   "execution_count": null,
   "metadata": {},
   "outputs": [],
   "source": [
    "advantaged_gender = 'F'\n",
    "disadvantaged_gender = 'M'\n",
    "\n",
    "def sub_group_auc(y, pred, pos_label_):\n",
    "    fpr, tpr, thresholds = metrics.roc_curve(y, pred, pos_label=pos_label_)\n",
    "    sub_group_auc = metrics.auc(fpr, tpr)\n",
    "    return sub_group_auc"
   ]
  },
  {
   "cell_type": "code",
   "execution_count": null,
   "metadata": {},
   "outputs": [],
   "source": [
    "#baseline group fairness indicator for gender:\n",
    "sub_group_auc_F = sub_group_auc(y_F, pred_F, 1)\n",
    "sub_group_auc_M = sub_group_auc(y_M, pred_M, 1)\n",
    "group_fairness_baseline_gender = sub_group_auc_F - sub_group_auc_M"
   ]
  },
  {
   "cell_type": "code",
   "execution_count": null,
   "metadata": {},
   "outputs": [],
   "source": [
    "#fairness algorithm group fairness indicator for gender:\n",
    "sub_group_auc_fairness_F = sub_group_auc(y_F, pred_fairness_F, 1)\n",
    "sub_group_auc_fairness_M = sub_group_auc(y_M, pred_fairness_M, 1)\n",
    "group_fairness_fair_algorithm_gender = sub_group_auc_fairness_F - sub_group_auc_fairness_M"
   ]
  },
  {
   "cell_type": "markdown",
   "metadata": {},
   "source": [
    "### b. Age"
   ]
  },
  {
   "cell_type": "code",
   "execution_count": null,
   "metadata": {},
   "outputs": [],
   "source": []
  },
  {
   "cell_type": "markdown",
   "metadata": {},
   "source": [
    "## 2) Max-Min Fairness"
   ]
  },
  {
   "cell_type": "markdown",
   "metadata": {},
   "source": [
    "Defination: diagnosis AUC of the worst-case (Min) group."
   ]
  },
  {
   "cell_type": "markdown",
   "metadata": {},
   "source": [
    "### a. Gender"
   ]
  },
  {
   "cell_type": "code",
   "execution_count": null,
   "metadata": {},
   "outputs": [],
   "source": [
    "advantaged_gender = 'F'\n",
    "disadvantaged_gender = 'M'"
   ]
  },
  {
   "cell_type": "code",
   "execution_count": null,
   "metadata": {},
   "outputs": [],
   "source": [
    "#baseline group fairness indicator for gender:\n",
    "sub_group_auc_M = sub_group_auc(y_M, pred_M, 1)\n",
    "maxMin_fairness_baseline_gender = sub_group_auc_M"
   ]
  },
  {
   "cell_type": "code",
   "execution_count": null,
   "metadata": {},
   "outputs": [],
   "source": [
    "#fairness algorithm group fairness indicator for gender:\n",
    "sub_group_auc_fairness_M = sub_group_auc(y_M, pred_fairness_M, 1)\n",
    "maxMin_fairness_fair_algorithm_gender = sub_group_auc_fairness_M"
   ]
  },
  {
   "cell_type": "markdown",
   "metadata": {},
   "source": [
    "### b. Age"
   ]
  },
  {
   "cell_type": "code",
   "execution_count": null,
   "metadata": {},
   "outputs": [],
   "source": []
  }
 ],
 "metadata": {
  "kernelspec": {
   "display_name": "Python 3 (ipykernel)",
   "language": "python",
   "name": "python3"
  },
  "language_info": {
   "codemirror_mode": {
    "name": "ipython",
    "version": 3
   },
   "file_extension": ".py",
   "mimetype": "text/x-python",
   "name": "python",
   "nbconvert_exporter": "python",
   "pygments_lexer": "ipython3",
   "version": "3.9.12"
  }
 },
 "nbformat": 4,
 "nbformat_minor": 1
}
