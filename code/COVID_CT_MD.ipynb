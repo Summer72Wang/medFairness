{
 "cells": [
  {
   "cell_type": "code",
   "execution_count": 38,
   "metadata": {
    "colab": {
     "base_uri": "https://localhost:8080/"
    },
    "id": "OL1iNlLP094Y",
    "outputId": "35b4b3c4-c6ee-490d-dc97-8a0f59c31783"
   },
   "outputs": [
    {
     "name": "stdout",
     "output_type": "stream",
     "text": [
      "1.11.0\n",
      "11.3\n",
      "Python version\n",
      "3.9.12 (main, Apr  5 2022, 06:56:58) \n",
      "[GCC 7.5.0]\n"
     ]
    }
   ],
   "source": [
    "import h5py\n",
    "import pandas as pd\n",
    "import numpy as np\n",
    "import cv2\n",
    "import os\n",
    "import matplotlib.pyplot as plt\n",
    "from collections import Counter\n",
    "from sklearn.model_selection import train_test_split\n",
    "import pickle\n",
    "import time\n",
    "import glob\n",
    "\n",
    "import torch\n",
    "print(torch.__version__)\n",
    "print(torch.version.cuda)\n",
    "\n",
    "import sys\n",
    "print(\"Python version\")\n",
    "print(sys.version)\n",
    "\n",
    "import torchvision\n",
    "import torch.nn as nn\n",
    "from torchsummary import summary\n",
    "import torch.optim as optim\n",
    "import torch.nn.functional as F\n",
    "from torchvision.models.feature_extraction import create_feature_extractor\n",
    "\n",
    "from sklearn.preprocessing import StandardScaler\n",
    "sc = StandardScaler()"
   ]
  },
  {
   "cell_type": "code",
   "execution_count": 142,
   "metadata": {},
   "outputs": [
    {
     "name": "stdout",
     "output_type": "stream",
     "text": [
      "Collecting torchsummary\n",
      "  Downloading torchsummary-1.5.1-py3-none-any.whl (2.8 kB)\n",
      "Installing collected packages: torchsummary\n",
      "Successfully installed torchsummary-1.5.1\n"
     ]
    }
   ],
   "source": [
    "!pip install torchsummary"
   ]
  },
  {
   "cell_type": "code",
   "execution_count": 2,
   "metadata": {
    "id": "ooNzk2nS1Egz"
   },
   "outputs": [],
   "source": [
    "class BaseDataset(torch.utils.data.Dataset):\n",
    "    def __init__(self, dataframe, path_to_images, sens_name, sens_classes, transform):\n",
    "        super(BaseDataset, self).__init__()\n",
    "        \n",
    "        self.dataframe = dataframe        \n",
    "        self.dataset_size = self.dataframe.shape[0]\n",
    "        self.transform = transform\n",
    "        self.path_to_images = path_to_images\n",
    "        self.sens_name = sens_name\n",
    "        self.sens_classes = sens_classes\n",
    "        \n",
    "        self.A = None\n",
    "        self.Y = None\n",
    "        self.AY_proportion = None\n",
    "        \n",
    "    def get_AY_proportions(self):\n",
    "        if self.AY_proportion:\n",
    "            return self.AY_proportion\n",
    "        \n",
    "        A_num_class = 2\n",
    "        Y_num_class = 2\n",
    "        A_label = self.A\n",
    "        Y_label = self.Y\n",
    "        \n",
    "        A = self.A.tolist()\n",
    "        Y = self.Y.tolist()\n",
    "        ttl = len(A)\n",
    "            \n",
    "        len_A0Y0 = len([ay for ay in zip(A, Y) if ay == (0, 0)])\n",
    "        len_A0Y1 = len([ay for ay in zip(A, Y) if ay == (0, 1)])\n",
    "        len_A1Y0 = len([ay for ay in zip(A, Y) if ay == (1, 0)])\n",
    "        len_A1Y1 = len([ay for ay in zip(A, Y) if ay == (1, 1)])\n",
    "\n",
    "        assert (\n",
    "            len_A0Y0 + len_A0Y1 + len_A1Y0 + len_A1Y1\n",
    "        ) == ttl, \"Problem computing train set AY proportion.\"\n",
    "        A0Y0 = len_A0Y0 / ttl\n",
    "        A0Y1 = len_A0Y1 / ttl\n",
    "        A1Y0 = len_A1Y0 / ttl\n",
    "        A1Y1 = len_A1Y1 / ttl\n",
    "        \n",
    "        self.AY_proportion = [[A0Y0, A0Y1], [A1Y0, A1Y1]]\n",
    "        \n",
    "        return self.AY_proportion\n",
    "    \n",
    "    def get_A_proportions(self):\n",
    "        AY = self.get_AY_proportions()\n",
    "        ret = [AY[0][0] + AY[0][1], AY[1][0] + AY[1][1]]\n",
    "        np.testing.assert_almost_equal(np.sum(ret), 1.0)\n",
    "        return ret\n",
    "\n",
    "    def get_Y_proportions(self):\n",
    "        AY = self.get_AY_proportions()\n",
    "        ret = [AY[0][0] + AY[1][0], AY[0][1] + AY[1][1]]\n",
    "        np.testing.assert_almost_equal(np.sum(ret), 1.0)\n",
    "        return ret\n",
    "\n",
    "    def set_A(self, sens_name):\n",
    "        if sens_name == 'Sex':\n",
    "            A = np.asarray(self.dataframe['Sex'].values != 'M').astype('float')\n",
    "        elif sens_name == 'Age':\n",
    "            A = np.asarray(self.dataframe['Age_binary'].values.astype('int') == 1).astype('float')\n",
    "        elif sens_name == 'Race':\n",
    "            A = np.asarray(self.dataframe['Race'].values == 'White').astype('float')\n",
    "        elif self.sens_name == 'skin_type':\n",
    "            A = np.asarray(self.dataframe['skin_binary'].values != 0).astype('float')\n",
    "        elif self.sens_name == 'Insurance':\n",
    "            self.A = np.asarray(self.dataframe['Insurance_binary'].values != 0).astype('float')\n",
    "        else:\n",
    "            raise ValueError(\"Does not contain {}\".format(self.sens_name))\n",
    "        return A\n",
    "\n",
    "    def get_weights(self, resample_which):\n",
    "        sens_attr, group_num = self.group_counts(resample_which)\n",
    "        group_weights = [1/x.item() for x in group_num]\n",
    "        sample_weights = [group_weights[int(i)] for i in sens_attr]\n",
    "        return sample_weights\n",
    "    \n",
    "    def group_counts(self, resample_which = 'group'):\n",
    "        if resample_which == 'group' or resample_which == 'balanced':\n",
    "            if self.sens_name == 'Sex':\n",
    "                mapping = {'M': 0, 'F': 1}\n",
    "                groups = self.dataframe['Sex'].values\n",
    "                group_array = [*map(mapping.get, groups)]\n",
    "                \n",
    "            elif self.sens_name == 'Age':\n",
    "                if self.sens_classes == 2:\n",
    "                    groups = self.dataframe['Age_binary'].values\n",
    "                elif self.sens_classes == 5:\n",
    "                    groups = self.dataframe['Age_multi'].values\n",
    "                elif self.sens_classes == 4:\n",
    "                    groups = self.dataframe['Age_multi4'].values.astype('int')\n",
    "                group_array = groups.tolist()\n",
    "                \n",
    "            elif self.sens_name == 'Race':\n",
    "                mapping = {'White': 0, 'non-White': 1}\n",
    "                groups = self.dataframe['Race'].values\n",
    "                group_array = [*map(mapping.get, groups)]\n",
    "            elif self.sens_name == 'skin_type':\n",
    "                if self.sens_classes == 2:\n",
    "                    groups = self.dataframe['skin_binary'].values\n",
    "                elif self.sens_classes == 6:\n",
    "                    groups = self.dataframe['skin_type'].values\n",
    "                group_array = groups.tolist()\n",
    "            elif self.sens_name == 'Insurance':\n",
    "                if self.sens_classes == 2:\n",
    "                    groups = self.dataframe['Insurance_binary'].values\n",
    "                elif self.sens_classes == 5:\n",
    "                    groups = self.dataframe['Insurance'].values\n",
    "                group_array = groups.tolist()\n",
    "            else:\n",
    "                raise ValueError(\"sensitive attribute does not defined in BaseDataset\")\n",
    "            \n",
    "            if resample_which == 'balanced':\n",
    "                #get class\n",
    "                labels = self.Y.tolist()\n",
    "                num_labels = len(set(labels))\n",
    "                num_groups = len(set(group_array))\n",
    "                \n",
    "                group_array = (np.asarray(group_array) * num_labels + np.asarray(labels)).tolist()\n",
    "                \n",
    "        elif resample_which == 'class':\n",
    "            group_array = self.Y.tolist()\n",
    "            num_labels = len(set(group_array))\n",
    "        \n",
    "        self._group_array = torch.LongTensor(group_array)\n",
    "        if resample_which == 'group':\n",
    "            self._group_counts = (torch.arange(self.sens_classes).unsqueeze(1)==self._group_array).sum(1).float()\n",
    "        elif resample_which == 'balanced':\n",
    "            self._group_counts = (torch.arange(num_labels * num_groups).unsqueeze(1)==self._group_array).sum(1).float()\n",
    "        elif resample_which == 'class':\n",
    "            self._group_counts = (torch.arange(num_labels).unsqueeze(1)==self._group_array).sum(1).float()\n",
    "        return group_array, self._group_counts\n",
    "    \n",
    "    def __len__(self):\n",
    "        return self.dataset_size\n",
    "    \n",
    "    def get_labels(self): \n",
    "        # for sensitive attribute imbalance\n",
    "        if self.sens_classes == 2:\n",
    "            return self.A\n",
    "        elif self.sens_classes == 5:\n",
    "            return self.dataframe['Age_multi'].values.tolist()\n",
    "        elif self.sens_classes == 4:\n",
    "            return self.dataframe['Age_multi4'].values.tolist()\n",
    "\n",
    "    def get_sensitive(self, sens_name, sens_classes, item):\n",
    "        if sens_name == 'Sex':\n",
    "            if item['Sex'] == 'M':\n",
    "                sensitive = 0\n",
    "            else:\n",
    "                sensitive = 1\n",
    "        elif sens_name == 'Age':\n",
    "            if sens_classes == 2:\n",
    "                sensitive = int(item['Age_binary'])\n",
    "            elif sens_classes == 5:\n",
    "                sensitive = int(item['Age_multi'])\n",
    "            elif sens_classes == 4:\n",
    "                sensitive = int(item['Age_multi4'])\n",
    "        elif sens_name == 'Race':\n",
    "            if item['Race'] == 'White':\n",
    "                sensitive = 0\n",
    "            else:\n",
    "                sensitive = 1\n",
    "        elif sens_name == 'skin_type':\n",
    "            if sens_classes == 2:\n",
    "                sensitive = int(item['skin_binary'])\n",
    "            else:\n",
    "                sensitive = int(item['skin_type'])\n",
    "        elif self.sens_name == 'Insurance':\n",
    "            if self.sens_classes == 2:\n",
    "                sensitive = int(item['Insurance_binary'])\n",
    "            elif self.sens_classes == 5:\n",
    "                sensitive = int(item['Insurance'])\n",
    "        else:\n",
    "            raise ValueError('Please check the sensitive attributes.')\n",
    "        return sensitive"
   ]
  },
  {
   "cell_type": "code",
   "execution_count": 69,
   "metadata": {
    "id": "N5Pho3_L1UQr"
   },
   "outputs": [],
   "source": [
    "class COVID_CT_MD(BaseDataset):\n",
    "    def __init__(self, dataframe, path_to_images, sens_name, sens_classes, transform):\n",
    "        super(COVID_CT_MD, self).__init__(dataframe, path_to_images, sens_name, sens_classes, transform)\n",
    "        \n",
    "        self.A = self.set_A(sens_name)\n",
    "        self.Y = self.dataframe['binary_label'].to_numpy()\n",
    "        self.AY_proportion = None\n",
    "        \n",
    "    def __getitem__(self, idx):\n",
    "        item = self.dataframe.iloc[idx]\n",
    "        img = np.load(os.path.join(self.path_to_images, item[\"Path\"]))\n",
    "        img = np.expand_dims(img, axis=0)\n",
    "        img = sc.fit_transform(img.T).T[0]\n",
    "\n",
    "        label = torch.FloatTensor([item['binary_label']])\n",
    "        sensitive = self.get_sensitive(self.sens_name, self.sens_classes, item)\n",
    "        \n",
    "        return idx, img, label, sensitive"
   ]
  },
  {
   "cell_type": "code",
   "execution_count": 70,
   "metadata": {},
   "outputs": [],
   "source": [
    "PATH = '/hdd/Dataset/'"
   ]
  },
  {
   "cell_type": "code",
   "execution_count": 71,
   "metadata": {
    "colab": {
     "base_uri": "https://localhost:8080/",
     "height": 424
    },
    "id": "gjA6_2uJIE7t",
    "outputId": "662adc2f-0f2f-41cd-dc02-ed4ce477c668"
   },
   "outputs": [
    {
     "data": {
      "text/html": [
       "<div>\n",
       "<style scoped>\n",
       "    .dataframe tbody tr th:only-of-type {\n",
       "        vertical-align: middle;\n",
       "    }\n",
       "\n",
       "    .dataframe tbody tr th {\n",
       "        vertical-align: top;\n",
       "    }\n",
       "\n",
       "    .dataframe thead th {\n",
       "        text-align: right;\n",
       "    }\n",
       "</style>\n",
       "<table border=\"1\" class=\"dataframe\">\n",
       "  <thead>\n",
       "    <tr style=\"text-align: right;\">\n",
       "      <th></th>\n",
       "      <th>Diagnosis</th>\n",
       "      <th>Folder</th>\n",
       "      <th>Sex</th>\n",
       "      <th>Patient Age</th>\n",
       "      <th>Weight</th>\n",
       "      <th>Clinical characteristics</th>\n",
       "      <th>Surgery</th>\n",
       "      <th>Follow-up</th>\n",
       "      <th>PCR</th>\n",
       "      <th>Path</th>\n",
       "      <th>Age</th>\n",
       "      <th>Age_multi</th>\n",
       "      <th>Age_binary</th>\n",
       "      <th>binary_label</th>\n",
       "    </tr>\n",
       "  </thead>\n",
       "  <tbody>\n",
       "    <tr>\n",
       "      <th>0</th>\n",
       "      <td>COVID-19</td>\n",
       "      <td>P001</td>\n",
       "      <td>M</td>\n",
       "      <td>039Y</td>\n",
       "      <td>80.0</td>\n",
       "      <td>Dyspnea, Cough, Fever</td>\n",
       "      <td>NaN</td>\n",
       "      <td>NaN</td>\n",
       "      <td>NaN</td>\n",
       "      <td>COVID-19 Cases 3D/P001.npy</td>\n",
       "      <td>39</td>\n",
       "      <td>1</td>\n",
       "      <td>0</td>\n",
       "      <td>[0, 1]</td>\n",
       "    </tr>\n",
       "    <tr>\n",
       "      <th>1</th>\n",
       "      <td>COVID-19</td>\n",
       "      <td>P002</td>\n",
       "      <td>F</td>\n",
       "      <td>048Y</td>\n",
       "      <td>75.0</td>\n",
       "      <td>Dyspnea, Flu-like symptoms</td>\n",
       "      <td>No</td>\n",
       "      <td>Uneventful</td>\n",
       "      <td>NaN</td>\n",
       "      <td>COVID-19 Cases 3D/P002.npy</td>\n",
       "      <td>48</td>\n",
       "      <td>2</td>\n",
       "      <td>0</td>\n",
       "      <td>[0, 1]</td>\n",
       "    </tr>\n",
       "    <tr>\n",
       "      <th>2</th>\n",
       "      <td>COVID-19</td>\n",
       "      <td>P003</td>\n",
       "      <td>M</td>\n",
       "      <td>068Y</td>\n",
       "      <td>90.0</td>\n",
       "      <td>Cough</td>\n",
       "      <td>NaN</td>\n",
       "      <td>Hospitalized</td>\n",
       "      <td>NaN</td>\n",
       "      <td>COVID-19 Cases 3D/P003.npy</td>\n",
       "      <td>68</td>\n",
       "      <td>3</td>\n",
       "      <td>1</td>\n",
       "      <td>[0, 1]</td>\n",
       "    </tr>\n",
       "    <tr>\n",
       "      <th>3</th>\n",
       "      <td>COVID-19</td>\n",
       "      <td>P004</td>\n",
       "      <td>M</td>\n",
       "      <td>065Y</td>\n",
       "      <td>75.0</td>\n",
       "      <td>Dyspnea, fever</td>\n",
       "      <td>No</td>\n",
       "      <td>Uneventful</td>\n",
       "      <td>NaN</td>\n",
       "      <td>COVID-19 Cases 3D/P004.npy</td>\n",
       "      <td>65</td>\n",
       "      <td>3</td>\n",
       "      <td>1</td>\n",
       "      <td>[0, 1]</td>\n",
       "    </tr>\n",
       "    <tr>\n",
       "      <th>4</th>\n",
       "      <td>COVID-19</td>\n",
       "      <td>P005</td>\n",
       "      <td>M</td>\n",
       "      <td>029Y</td>\n",
       "      <td>78.0</td>\n",
       "      <td>Cough, Fatigue</td>\n",
       "      <td>No</td>\n",
       "      <td>Uneventful</td>\n",
       "      <td>NaN</td>\n",
       "      <td>COVID-19 Cases 3D/P005.npy</td>\n",
       "      <td>29</td>\n",
       "      <td>1</td>\n",
       "      <td>0</td>\n",
       "      <td>[0, 1]</td>\n",
       "    </tr>\n",
       "    <tr>\n",
       "      <th>...</th>\n",
       "      <td>...</td>\n",
       "      <td>...</td>\n",
       "      <td>...</td>\n",
       "      <td>...</td>\n",
       "      <td>...</td>\n",
       "      <td>...</td>\n",
       "      <td>...</td>\n",
       "      <td>...</td>\n",
       "      <td>...</td>\n",
       "      <td>...</td>\n",
       "      <td>...</td>\n",
       "      <td>...</td>\n",
       "      <td>...</td>\n",
       "      <td>...</td>\n",
       "    </tr>\n",
       "    <tr>\n",
       "      <th>301</th>\n",
       "      <td>Normal</td>\n",
       "      <td>normal071</td>\n",
       "      <td>F</td>\n",
       "      <td>043Y</td>\n",
       "      <td>82.0</td>\n",
       "      <td>Check-up before uterus surgery</td>\n",
       "      <td>Yes</td>\n",
       "      <td>NaN</td>\n",
       "      <td>NaN</td>\n",
       "      <td>Normal Cases 3D/normal071.npy</td>\n",
       "      <td>43</td>\n",
       "      <td>2</td>\n",
       "      <td>0</td>\n",
       "      <td>[1, 0]</td>\n",
       "    </tr>\n",
       "    <tr>\n",
       "      <th>303</th>\n",
       "      <td>Normal</td>\n",
       "      <td>normal073</td>\n",
       "      <td>M</td>\n",
       "      <td>039Y</td>\n",
       "      <td>96.0</td>\n",
       "      <td>Headache, Myalgia</td>\n",
       "      <td>Yes</td>\n",
       "      <td>NaN</td>\n",
       "      <td>NaN</td>\n",
       "      <td>Normal Cases 3D/normal073.npy</td>\n",
       "      <td>39</td>\n",
       "      <td>1</td>\n",
       "      <td>0</td>\n",
       "      <td>[1, 0]</td>\n",
       "    </tr>\n",
       "    <tr>\n",
       "      <th>304</th>\n",
       "      <td>Normal</td>\n",
       "      <td>normal074</td>\n",
       "      <td>M</td>\n",
       "      <td>040Y</td>\n",
       "      <td>97.0</td>\n",
       "      <td>Chest pain</td>\n",
       "      <td>Yes</td>\n",
       "      <td>NaN</td>\n",
       "      <td>NaN</td>\n",
       "      <td>Normal Cases 3D/normal074.npy</td>\n",
       "      <td>40</td>\n",
       "      <td>2</td>\n",
       "      <td>0</td>\n",
       "      <td>[1, 0]</td>\n",
       "    </tr>\n",
       "    <tr>\n",
       "      <th>305</th>\n",
       "      <td>Normal</td>\n",
       "      <td>normal075</td>\n",
       "      <td>M</td>\n",
       "      <td>056Y</td>\n",
       "      <td>92.0</td>\n",
       "      <td>Dyspnea</td>\n",
       "      <td>NaN</td>\n",
       "      <td>NaN</td>\n",
       "      <td>NaN</td>\n",
       "      <td>Normal Cases 3D/normal075.npy</td>\n",
       "      <td>56</td>\n",
       "      <td>2</td>\n",
       "      <td>0</td>\n",
       "      <td>[1, 0]</td>\n",
       "    </tr>\n",
       "    <tr>\n",
       "      <th>306</th>\n",
       "      <td>Normal</td>\n",
       "      <td>normal076</td>\n",
       "      <td>M</td>\n",
       "      <td>030Y</td>\n",
       "      <td>72.0</td>\n",
       "      <td>Chest pain, Cough, Loss of appetite</td>\n",
       "      <td>Yes</td>\n",
       "      <td>NaN</td>\n",
       "      <td>NaN</td>\n",
       "      <td>Normal Cases 3D/normal076.npy</td>\n",
       "      <td>30</td>\n",
       "      <td>1</td>\n",
       "      <td>0</td>\n",
       "      <td>[1, 0]</td>\n",
       "    </tr>\n",
       "  </tbody>\n",
       "</table>\n",
       "<p>244 rows × 14 columns</p>\n",
       "</div>"
      ],
      "text/plain": [
       "    Diagnosis     Folder Sex Patient Age  Weight  \\\n",
       "0    COVID-19       P001   M        039Y    80.0   \n",
       "1    COVID-19       P002   F        048Y    75.0   \n",
       "2    COVID-19       P003   M        068Y    90.0   \n",
       "3    COVID-19       P004   M        065Y    75.0   \n",
       "4    COVID-19       P005   M        029Y    78.0   \n",
       "..        ...        ...  ..         ...     ...   \n",
       "301    Normal  normal071   F        043Y    82.0   \n",
       "303    Normal  normal073   M        039Y    96.0   \n",
       "304    Normal  normal074   M        040Y    97.0   \n",
       "305    Normal  normal075   M        056Y    92.0   \n",
       "306    Normal  normal076   M        030Y    72.0   \n",
       "\n",
       "                Clinical characteristics  Surgery     Follow-up  PCR  \\\n",
       "0                   Dyspnea, Cough, Fever     NaN           NaN  NaN   \n",
       "1              Dyspnea, Flu-like symptoms      No    Uneventful  NaN   \n",
       "2                                   Cough     NaN  Hospitalized  NaN   \n",
       "3                          Dyspnea, fever      No    Uneventful  NaN   \n",
       "4                          Cough, Fatigue      No    Uneventful  NaN   \n",
       "..                                    ...     ...           ...  ...   \n",
       "301        Check-up before uterus surgery     Yes           NaN  NaN   \n",
       "303                    Headache, Myalgia      Yes           NaN  NaN   \n",
       "304                           Chest pain      Yes           NaN  NaN   \n",
       "305                               Dyspnea     NaN           NaN  NaN   \n",
       "306  Chest pain, Cough, Loss of appetite      Yes           NaN  NaN   \n",
       "\n",
       "                              Path  Age  Age_multi  Age_binary binary_label  \n",
       "0       COVID-19 Cases 3D/P001.npy   39          1           0       [0, 1]  \n",
       "1       COVID-19 Cases 3D/P002.npy   48          2           0       [0, 1]  \n",
       "2       COVID-19 Cases 3D/P003.npy   68          3           1       [0, 1]  \n",
       "3       COVID-19 Cases 3D/P004.npy   65          3           1       [0, 1]  \n",
       "4       COVID-19 Cases 3D/P005.npy   29          1           0       [0, 1]  \n",
       "..                             ...  ...        ...         ...          ...  \n",
       "301  Normal Cases 3D/normal071.npy   43          2           0       [1, 0]  \n",
       "303  Normal Cases 3D/normal073.npy   39          1           0       [1, 0]  \n",
       "304  Normal Cases 3D/normal074.npy   40          2           0       [1, 0]  \n",
       "305  Normal Cases 3D/normal075.npy   56          2           0       [1, 0]  \n",
       "306  Normal Cases 3D/normal076.npy   30          1           0       [1, 0]  \n",
       "\n",
       "[244 rows x 14 columns]"
      ]
     },
     "execution_count": 71,
     "metadata": {},
     "output_type": "execute_result"
    }
   ],
   "source": [
    "df = pd.read_csv(PATH+'split/new_train.csv',index_col=0)\n",
    "one_hot_label = []\n",
    "for l in df['binary_label']:\n",
    "    if l==1:\n",
    "        one_hot_label.append(np.array([0,1]))\n",
    "    elif l==0:\n",
    "        one_hot_label.append(np.array([1,0]))\n",
    "    else:\n",
    "        print(l)\n",
    "\n",
    "df['binary_label'] = one_hot_label\n",
    "df"
   ]
  },
  {
   "cell_type": "code",
   "execution_count": 124,
   "metadata": {
    "colab": {
     "base_uri": "https://localhost:8080/"
    },
    "id": "etIporr22j3c",
    "outputId": "c938e5c5-36b8-4e62-db9f-94abd551b1d7"
   },
   "outputs": [],
   "source": [
    "df = pd.read_csv(PATH+'split/new_train.csv',index_col=0)\n",
    "# one_hot_label = []\n",
    "# for l in df['binary_label']:\n",
    "#     if l==1:\n",
    "#         one_hot_label.append(np.array([0,1]))\n",
    "#     elif l==0:\n",
    "#         one_hot_label.append(np.array([1,0]))\n",
    "#     else:\n",
    "#         print(l)\n",
    "# df['binary_label'] = one_hot_label\n",
    "train_data = COVID_CT_MD(df, PATH+'embedding/', sens_name='Sex', sens_classes=2, transform=None)\n",
    "train_loader = torch.utils.data.DataLoader(train_data, batch_size=16, shuffle=True)\n",
    "\n",
    "df_test = pd.read_csv(PATH+'split/new_test.csv',index_col=0)\n",
    "# one_hot_label = []\n",
    "# for l in df_test['binary_label']:\n",
    "#     if l==1:\n",
    "#         one_hot_label.append(np.array([0,1]))\n",
    "#     elif l==0:\n",
    "#         one_hot_label.append(np.array([1,0]))\n",
    "#     else:\n",
    "#         print(l)\n",
    "# df_test['binary_label'] = one_hot_label\n",
    "test_data = COVID_CT_MD(df_test, PATH+'embedding/', sens_name='Sex', sens_classes=2, transform=None)\n",
    "test_loader = torch.utils.data.DataLoader(test_data, batch_size=16, shuffle=False)\n",
    "\n",
    "df_val = pd.read_csv(PATH+'split/new_val.csv',index_col=0)\n",
    "# one_hot_label = []\n",
    "# for l in df_val['binary_label']:\n",
    "#     if l==1:\n",
    "#         one_hot_label.append(np.array([0,1]))\n",
    "#     elif l==0:\n",
    "#         one_hot_label.append(np.array([1,0]))\n",
    "#     else:\n",
    "#         print(l)\n",
    "# df_val['binary_label'] = one_hot_label\n",
    "val_data = COVID_CT_MD(df_val, PATH+'embedding/', sens_name='Sex', sens_classes=2, transform=None)\n",
    "val_loader = torch.utils.data.DataLoader(val_data, batch_size=16, shuffle=True)"
   ]
  },
  {
   "cell_type": "code",
   "execution_count": 244,
   "metadata": {
    "id": "cWYDhtvA3qj6"
   },
   "outputs": [],
   "source": [
    "class Classifier(nn.Module):\n",
    "    def __init__(self):\n",
    "        super(Classifier,self).__init__()\n",
    "        self.conv1 = nn.Conv1d(1, 32, 3, stride=3)\n",
    "        self.conv2 = nn.Conv1d(32, 64, 3, stride=3)\n",
    "        self.pool = nn.MaxPool1d(3, stride=3)\n",
    "        self.fc1 = nn.Linear(64*6,128)\n",
    "        self.fc2 = nn.Linear(128,64)\n",
    "        self.fc3 = nn.Linear(64,1)  \n",
    "        \n",
    "    def forward(self,x):\n",
    "        x = self.pool(F.relu(self.conv1(x)))\n",
    "        x = self.pool(F.relu(self.conv2(x)))\n",
    "        x = x.view(-1, 64*6)\n",
    "        x = torch.relu(self.fc1(x))\n",
    "        x = torch.relu(self.fc2(x))\n",
    "        x = torch.sigmoid(self.fc3(x))\n",
    "        return x\n",
    "\n",
    "\n",
    "net = Classifier().to('cuda:0')\n",
    "optimizer = torch.optim.Adam(net.parameters(),lr=0.0001,weight_decay=0.0005)\n",
    "loss_fn = nn.BCELoss()"
   ]
  },
  {
   "cell_type": "code",
   "execution_count": 245,
   "metadata": {
    "colab": {
     "base_uri": "https://localhost:8080/"
    },
    "id": "mempgZhn1f_V",
    "outputId": "51f27c2b-4928-4387-ed70-2d9b2b92f0a3"
   },
   "outputs": [
    {
     "name": "stdout",
     "output_type": "stream",
     "text": [
      "[epoch: 1] train loss: 11.069 val loss: 1.343\n",
      "[epoch: 26] train loss: 10.465 val loss: 1.329\n"
     ]
    }
   ],
   "source": [
    "train_loss = []\n",
    "loss_val = []\n",
    "\n",
    "for epoch in range(50):\n",
    "    running_loss = 0.0 \n",
    "    val_loss = 0\n",
    "    net.train()\n",
    "    for i, (index, images, targets, sensitive_attr) in enumerate(train_loader):\n",
    "        images, targets, sensitive_attr = images.to('cuda:0'), targets.to('cuda:0'), sensitive_attr.to('cuda:0')\n",
    "        optimizer.zero_grad()\n",
    "        outputs = net(images.view(-1, 1, 512))\n",
    "        loss = loss_fn(outputs, targets)\n",
    "        loss.backward()\n",
    "        optimizer.step()\n",
    "        running_loss += loss.item()\n",
    "        \n",
    "    net.eval()\n",
    "    for i, (index, images, targets, sensitive_attr) in enumerate(val_loader):\n",
    "        images, targets, sensitive_attr = images.to('cuda:0'), targets.to('cuda:0'), sensitive_attr.to('cuda:0')\n",
    "        outputs = net(images.view(-1, 1, 512))\n",
    "        loss = loss_fn(outputs, targets)\n",
    "        val_loss += loss.item()\n",
    "\n",
    "    if epoch % 25 == 0:\n",
    "        print(f'[epoch: {epoch + 1}] train loss: {running_loss:.3f} val loss: {val_loss:.3f}')\n",
    "        train_loss.append(running_loss)\n",
    "        loss_val.append(val_loss)\n",
    "        running_loss, val_loss = 0.0, 0.0\n"
   ]
  },
  {
   "cell_type": "code",
   "execution_count": 246,
   "metadata": {
    "colab": {
     "base_uri": "https://localhost:8080/",
     "height": 282
    },
    "id": "WjqY6l0rD6Ow",
    "outputId": "9f9395d9-4614-4412-b196-6b8485754a66"
   },
   "outputs": [
    {
     "data": {
      "image/png": "[encoded data removed]",
      "text/plain": [
       "<Figure size 432x288 with 1 Axes>"
      ]
     },
     "metadata": {
      "needs_background": "light"
     },
     "output_type": "display_data"
    },
    {
     "data": {
      "image/png": "[encoded data removed]",
      "text/plain": [
       "<Figure size 432x288 with 1 Axes>"
      ]
     },
     "metadata": {
      "needs_background": "light"
     },
     "output_type": "display_data"
    }
   ],
   "source": [
    "plt.plot(train_loss)\n",
    "plt.show()\n",
    "plt.plot(loss_val)\n",
    "plt.show()"
   ]
  },
  {
   "cell_type": "code",
   "execution_count": 247,
   "metadata": {
    "id": "2jtfF_qE8BHj"
   },
   "outputs": [
    {
     "name": "stdout",
     "output_type": "stream",
     "text": [
      "tensor([[0.2404],\n",
      "        [0.7833],\n",
      "        [0.6117],\n",
      "        [0.4925],\n",
      "        [0.6215],\n",
      "        [0.8414],\n",
      "        [0.6271],\n",
      "        [0.8580],\n",
      "        [0.4066],\n",
      "        [0.8189],\n",
      "        [0.8604],\n",
      "        [0.5686],\n",
      "        [0.7971],\n",
      "        [0.7613],\n",
      "        [0.8546],\n",
      "        [0.7267]], device='cuda:0', grad_fn=<SigmoidBackward0>) tensor([[1.],\n",
      "        [1.],\n",
      "        [1.],\n",
      "        [1.],\n",
      "        [1.],\n",
      "        [1.],\n",
      "        [1.],\n",
      "        [1.],\n",
      "        [1.],\n",
      "        [1.],\n",
      "        [1.],\n",
      "        [1.],\n",
      "        [1.],\n",
      "        [1.],\n",
      "        [1.],\n",
      "        [0.]], device='cuda:0')\n",
      "tensor([[0.7143],\n",
      "        [0.6586],\n",
      "        [0.6299],\n",
      "        [0.6437],\n",
      "        [0.6689],\n",
      "        [0.3082],\n",
      "        [0.6373],\n",
      "        [0.5454],\n",
      "        [0.8494],\n",
      "        [0.4189],\n",
      "        [0.4420],\n",
      "        [0.7512],\n",
      "        [0.6903],\n",
      "        [0.7749],\n",
      "        [0.6080]], device='cuda:0', grad_fn=<SigmoidBackward0>) tensor([[0.],\n",
      "        [0.],\n",
      "        [0.],\n",
      "        [0.],\n",
      "        [0.],\n",
      "        [0.],\n",
      "        [0.],\n",
      "        [0.],\n",
      "        [0.],\n",
      "        [0.],\n",
      "        [0.],\n",
      "        [0.],\n",
      "        [0.],\n",
      "        [0.],\n",
      "        [0.]], device='cuda:0')\n"
     ]
    }
   ],
   "source": [
    "net.eval()\n",
    "pred_true = 0\n",
    "total_cases = 0\n",
    "pred_false = 0\n",
    "out_p = []\n",
    "idx_l = []\n",
    "sex_l = []\n",
    "lab_l = []\n",
    "true_case, false_case = 0, 0\n",
    "\n",
    "for i, (index, images, targets, sensitive_attr) in enumerate(test_loader):\n",
    "    images, targets, sensitive_attr = images.to('cuda:0'), targets.to('cuda:0'), sensitive_attr.to('cuda:0')\n",
    "    outputs = net(images.view(-1, 1, 512))\n",
    "    # out_p.append(outputs.item())\n",
    "    # idx_l.append(index.item())\n",
    "    # sex_l.append(sensitive_attr.item())\n",
    "    # lab_l.append(targets.item())\n",
    "    print(outputs, targets)\n",
    "    \n",
    "    for idx, pred in enumerate(outputs):\n",
    "        \n",
    "        \n",
    "        if pred.item() >= 0.7:\n",
    "            true_case += 1\n",
    "        else:\n",
    "            false_case += 1\n",
    "            \n",
    "        if pred.item() >= 0.7 and targets[idx][0].item() == 1:\n",
    "            pred_true += 1\n",
    "        elif pred.item() < 0.7 and targets[idx][0].item() == 0:\n",
    "            pred_true += 1\n",
    "        else:\n",
    "            pred_false += 1\n",
    "    \n",
    "        total_cases += 1\n",
    "    loss = F.mse_loss(outputs, targets)\n",
    "        "
   ]
  },
  {
   "cell_type": "code",
   "execution_count": 248,
   "metadata": {
    "colab": {
     "base_uri": "https://localhost:8080/"
    },
    "id": "_VcPr7LUARzW",
    "outputId": "5fe35c26-bd48-4138-c523-786c88034418"
   },
   "outputs": [
    {
     "name": "stdout",
     "output_type": "stream",
     "text": [
      "19 12\n"
     ]
    }
   ],
   "source": [
    "print(pred_true, pred_false)"
   ]
  },
  {
   "cell_type": "code",
   "execution_count": 249,
   "metadata": {},
   "outputs": [
    {
     "data": {
      "text/plain": [
       "(13, 18)"
      ]
     },
     "execution_count": 249,
     "metadata": {},
     "output_type": "execute_result"
    }
   ],
   "source": [
    "true_case, false_case"
   ]
  },
  {
   "cell_type": "code",
   "execution_count": 250,
   "metadata": {
    "colab": {
     "base_uri": "https://localhost:8080/"
    },
    "id": "l8Zy7icF-kDg",
    "outputId": "2f7e7550-1e67-48fa-d68d-00e90af41595"
   },
   "outputs": [
    {
     "name": "stdout",
     "output_type": "stream",
     "text": [
      "0.6129032258064516\n"
     ]
    }
   ],
   "source": [
    "print(pred_true/total_cases)"
   ]
  },
  {
   "cell_type": "code",
   "execution_count": null,
   "metadata": {
    "id": "56SF6YPkxshq"
   },
   "outputs": [],
   "source": [
    "import numpy as np\n",
    "from sklearn import metrics\n",
    "def sub_group_auc(y, pred, pos_label_):\n",
    "    fpr, tpr, thresholds = metrics.roc_curve(y, pred, pos_label=pos_label_)\n",
    "    sub_group_auc = metrics.auc(fpr, tpr)\n",
    "    return sub_group_auc"
   ]
  },
  {
   "cell_type": "code",
   "execution_count": null,
   "metadata": {
    "id": "He4IRpf81H0L"
   },
   "outputs": [],
   "source": [
    "df_output = pd.DataFrame(out_p)"
   ]
  },
  {
   "cell_type": "code",
   "execution_count": null,
   "metadata": {
    "colab": {
     "base_uri": "https://localhost:8080/",
     "height": 313
    },
    "id": "GMOHacw31b_P",
    "outputId": "ce4ff917-d34c-42dc-87cb-c0c44af31e42"
   },
   "outputs": [
    {
     "ename": "ValueError",
     "evalue": "ignored",
     "output_type": "error",
     "traceback": [
      "\u001b[0;31m---------------------------------------------------------------------------\u001b[0m",
      "\u001b[0;31mValueError\u001b[0m                                Traceback (most recent call last)",
      "\u001b[0;32m<ipython-input-36-7708baad8732>\u001b[0m in \u001b[0;36m<module>\u001b[0;34m\u001b[0m\n\u001b[0;32m----> 1\u001b[0;31m \u001b[0mdf_output\u001b[0m\u001b[0;34m.\u001b[0m\u001b[0mcolumns\u001b[0m \u001b[0;34m=\u001b[0m \u001b[0;34m[\u001b[0m\u001b[0;34m'pred'\u001b[0m\u001b[0;34m]\u001b[0m\u001b[0;34m\u001b[0m\u001b[0;34m\u001b[0m\u001b[0m\n\u001b[0m",
      "\u001b[0;32m/usr/local/lib/python3.8/dist-packages/pandas/core/generic.py\u001b[0m in \u001b[0;36m__setattr__\u001b[0;34m(self, name, value)\u001b[0m\n\u001b[1;32m   5498\u001b[0m         \u001b[0;32mtry\u001b[0m\u001b[0;34m:\u001b[0m\u001b[0;34m\u001b[0m\u001b[0;34m\u001b[0m\u001b[0m\n\u001b[1;32m   5499\u001b[0m             \u001b[0mobject\u001b[0m\u001b[0;34m.\u001b[0m\u001b[0m__getattribute__\u001b[0m\u001b[0;34m(\u001b[0m\u001b[0mself\u001b[0m\u001b[0;34m,\u001b[0m \u001b[0mname\u001b[0m\u001b[0;34m)\u001b[0m\u001b[0;34m\u001b[0m\u001b[0;34m\u001b[0m\u001b[0m\n\u001b[0;32m-> 5500\u001b[0;31m             \u001b[0;32mreturn\u001b[0m \u001b[0mobject\u001b[0m\u001b[0;34m.\u001b[0m\u001b[0m__setattr__\u001b[0m\u001b[0;34m(\u001b[0m\u001b[0mself\u001b[0m\u001b[0;34m,\u001b[0m \u001b[0mname\u001b[0m\u001b[0;34m,\u001b[0m \u001b[0mvalue\u001b[0m\u001b[0;34m)\u001b[0m\u001b[0;34m\u001b[0m\u001b[0;34m\u001b[0m\u001b[0m\n\u001b[0m\u001b[1;32m   5501\u001b[0m         \u001b[0;32mexcept\u001b[0m \u001b[0mAttributeError\u001b[0m\u001b[0;34m:\u001b[0m\u001b[0;34m\u001b[0m\u001b[0;34m\u001b[0m\u001b[0m\n\u001b[1;32m   5502\u001b[0m             \u001b[0;32mpass\u001b[0m\u001b[0;34m\u001b[0m\u001b[0;34m\u001b[0m\u001b[0m\n",
      "\u001b[0;32m/usr/local/lib/python3.8/dist-packages/pandas/_libs/properties.pyx\u001b[0m in \u001b[0;36mpandas._libs.properties.AxisProperty.__set__\u001b[0;34m()\u001b[0m\n",
      "\u001b[0;32m/usr/local/lib/python3.8/dist-packages/pandas/core/generic.py\u001b[0m in \u001b[0;36m_set_axis\u001b[0;34m(self, axis, labels)\u001b[0m\n\u001b[1;32m    764\u001b[0m     \u001b[0;32mdef\u001b[0m \u001b[0m_set_axis\u001b[0m\u001b[0;34m(\u001b[0m\u001b[0mself\u001b[0m\u001b[0;34m,\u001b[0m \u001b[0maxis\u001b[0m\u001b[0;34m:\u001b[0m \u001b[0mint\u001b[0m\u001b[0;34m,\u001b[0m \u001b[0mlabels\u001b[0m\u001b[0;34m:\u001b[0m \u001b[0mIndex\u001b[0m\u001b[0;34m)\u001b[0m \u001b[0;34m->\u001b[0m \u001b[0;32mNone\u001b[0m\u001b[0;34m:\u001b[0m\u001b[0;34m\u001b[0m\u001b[0;34m\u001b[0m\u001b[0m\n\u001b[1;32m    765\u001b[0m         \u001b[0mlabels\u001b[0m \u001b[0;34m=\u001b[0m \u001b[0mensure_index\u001b[0m\u001b[0;34m(\u001b[0m\u001b[0mlabels\u001b[0m\u001b[0;34m)\u001b[0m\u001b[0;34m\u001b[0m\u001b[0;34m\u001b[0m\u001b[0m\n\u001b[0;32m--> 766\u001b[0;31m         \u001b[0mself\u001b[0m\u001b[0;34m.\u001b[0m\u001b[0m_mgr\u001b[0m\u001b[0;34m.\u001b[0m\u001b[0mset_axis\u001b[0m\u001b[0;34m(\u001b[0m\u001b[0maxis\u001b[0m\u001b[0;34m,\u001b[0m \u001b[0mlabels\u001b[0m\u001b[0;34m)\u001b[0m\u001b[0;34m\u001b[0m\u001b[0;34m\u001b[0m\u001b[0m\n\u001b[0m\u001b[1;32m    767\u001b[0m         \u001b[0mself\u001b[0m\u001b[0;34m.\u001b[0m\u001b[0m_clear_item_cache\u001b[0m\u001b[0;34m(\u001b[0m\u001b[0;34m)\u001b[0m\u001b[0;34m\u001b[0m\u001b[0;34m\u001b[0m\u001b[0m\n\u001b[1;32m    768\u001b[0m \u001b[0;34m\u001b[0m\u001b[0m\n",
      "\u001b[0;32m/usr/local/lib/python3.8/dist-packages/pandas/core/internals/managers.py\u001b[0m in \u001b[0;36mset_axis\u001b[0;34m(self, axis, new_labels)\u001b[0m\n\u001b[1;32m    214\u001b[0m     \u001b[0;32mdef\u001b[0m \u001b[0mset_axis\u001b[0m\u001b[0;34m(\u001b[0m\u001b[0mself\u001b[0m\u001b[0;34m,\u001b[0m \u001b[0maxis\u001b[0m\u001b[0;34m:\u001b[0m \u001b[0mint\u001b[0m\u001b[0;34m,\u001b[0m \u001b[0mnew_labels\u001b[0m\u001b[0;34m:\u001b[0m \u001b[0mIndex\u001b[0m\u001b[0;34m)\u001b[0m \u001b[0;34m->\u001b[0m \u001b[0;32mNone\u001b[0m\u001b[0;34m:\u001b[0m\u001b[0;34m\u001b[0m\u001b[0;34m\u001b[0m\u001b[0m\n\u001b[1;32m    215\u001b[0m         \u001b[0;31m# Caller is responsible for ensuring we have an Index object.\u001b[0m\u001b[0;34m\u001b[0m\u001b[0;34m\u001b[0m\u001b[0;34m\u001b[0m\u001b[0m\n\u001b[0;32m--> 216\u001b[0;31m         \u001b[0mself\u001b[0m\u001b[0;34m.\u001b[0m\u001b[0m_validate_set_axis\u001b[0m\u001b[0;34m(\u001b[0m\u001b[0maxis\u001b[0m\u001b[0;34m,\u001b[0m \u001b[0mnew_labels\u001b[0m\u001b[0;34m)\u001b[0m\u001b[0;34m\u001b[0m\u001b[0;34m\u001b[0m\u001b[0m\n\u001b[0m\u001b[1;32m    217\u001b[0m         \u001b[0mself\u001b[0m\u001b[0;34m.\u001b[0m\u001b[0maxes\u001b[0m\u001b[0;34m[\u001b[0m\u001b[0maxis\u001b[0m\u001b[0;34m]\u001b[0m \u001b[0;34m=\u001b[0m \u001b[0mnew_labels\u001b[0m\u001b[0;34m\u001b[0m\u001b[0;34m\u001b[0m\u001b[0m\n\u001b[1;32m    218\u001b[0m \u001b[0;34m\u001b[0m\u001b[0m\n",
      "\u001b[0;32m/usr/local/lib/python3.8/dist-packages/pandas/core/internals/base.py\u001b[0m in \u001b[0;36m_validate_set_axis\u001b[0;34m(self, axis, new_labels)\u001b[0m\n\u001b[1;32m     55\u001b[0m \u001b[0;34m\u001b[0m\u001b[0m\n\u001b[1;32m     56\u001b[0m         \u001b[0;32melif\u001b[0m \u001b[0mnew_len\u001b[0m \u001b[0;34m!=\u001b[0m \u001b[0mold_len\u001b[0m\u001b[0;34m:\u001b[0m\u001b[0;34m\u001b[0m\u001b[0;34m\u001b[0m\u001b[0m\n\u001b[0;32m---> 57\u001b[0;31m             raise ValueError(\n\u001b[0m\u001b[1;32m     58\u001b[0m                 \u001b[0;34mf\"Length mismatch: Expected axis has {old_len} elements, new \"\u001b[0m\u001b[0;34m\u001b[0m\u001b[0;34m\u001b[0m\u001b[0m\n\u001b[1;32m     59\u001b[0m                 \u001b[0;34mf\"values have {new_len} elements\"\u001b[0m\u001b[0;34m\u001b[0m\u001b[0;34m\u001b[0m\u001b[0m\n",
      "\u001b[0;31mValueError\u001b[0m: Length mismatch: Expected axis has 0 elements, new values have 1 elements"
     ]
    }
   ],
   "source": [
    "df_output.columns = ['pred']"
   ]
  },
  {
   "cell_type": "code",
   "execution_count": null,
   "metadata": {
    "id": "cy0AolN51jXs"
   },
   "outputs": [],
   "source": [
    "df_output['index'] = idx_l\n",
    "df_output['sex'] = sex_l\n",
    "df_output['lable'] = lab_l"
   ]
  },
  {
   "cell_type": "code",
   "execution_count": null,
   "metadata": {
    "colab": {
     "base_uri": "https://localhost:8080/"
    },
    "id": "eB3t0_cG2WdI",
    "outputId": "ee69e325-6e77-4f09-fc6a-b75141ac4526"
   },
   "outputs": [
    {
     "data": {
      "text/plain": [
       "M    147\n",
       "F     97\n",
       "Name: Sex, dtype: int64"
      ]
     },
     "execution_count": 52,
     "metadata": {},
     "output_type": "execute_result"
    }
   ],
   "source": [
    "df.Sex.value_counts()"
   ]
  },
  {
   "cell_type": "code",
   "execution_count": null,
   "metadata": {
    "colab": {
     "base_uri": "https://localhost:8080/"
    },
    "id": "4QnctUkGyJ65",
    "outputId": "0901b827-f0d2-470e-a41e-2abf69aaa455"
   },
   "outputs": [
    {
     "data": {
      "text/plain": [
       "0    147\n",
       "1     97\n",
       "Name: sex, dtype: int64"
      ]
     },
     "execution_count": 50,
     "metadata": {},
     "output_type": "execute_result"
    }
   ],
   "source": [
    "df_output.sex.value_counts()"
   ]
  },
  {
   "cell_type": "code",
   "execution_count": null,
   "metadata": {
    "id": "Mih0DowJ6kml"
   },
   "outputs": [],
   "source": [
    "import numpy as np\n",
    "from sklearn import metrics\n",
    "def sub_group_auc(y, pred, pos_label_):\n",
    "    fpr, tpr, thresholds = metrics.roc_curve(y, pred, pos_label=pos_label_)\n",
    "    sub_group_auc = metrics.auc(fpr, tpr)\n",
    "    return sub_group_auc"
   ]
  },
  {
   "cell_type": "code",
   "execution_count": null,
   "metadata": {
    "id": "fjzizxG63Fx1"
   },
   "outputs": [],
   "source": [
    "y_F = np.array(df_output.loc[df_output.sex==1].lable)\n",
    "pred_F = np.array(df_output.loc[df_output.sex==1].pred)\n",
    "y_M = np.array(df_output.loc[df_output.sex==0].lable)\n",
    "pred_M = np.array(df_output.loc[df_output.sex==0].pred)"
   ]
  },
  {
   "cell_type": "code",
   "execution_count": null,
   "metadata": {
    "id": "TQcDrPNBxskn"
   },
   "outputs": [],
   "source": [
    "#baseline group fairness indicator for gender:\n",
    "sub_group_auc_F = sub_group_auc(y_F, pred_F, 1)\n",
    "sub_group_auc_M = sub_group_auc(y_M, pred_M, 1)\n",
    "group_fairness_baseline_gender = sub_group_auc_M - sub_group_auc_F"
   ]
  },
  {
   "cell_type": "code",
   "execution_count": null,
   "metadata": {
    "colab": {
     "base_uri": "https://localhost:8080/"
    },
    "id": "v863xqng370f",
    "outputId": "19e4aefa-a580-4903-9a55-3e00dbe5acf4"
   },
   "outputs": [
    {
     "data": {
      "text/plain": [
       "0.14003831417624518"
      ]
     },
     "execution_count": 62,
     "metadata": {},
     "output_type": "execute_result"
    }
   ],
   "source": [
    "group_fairness_baseline_gender"
   ]
  },
  {
   "cell_type": "code",
   "execution_count": null,
   "metadata": {
    "colab": {
     "base_uri": "https://localhost:8080/",
     "height": 279
    },
    "id": "VjNz68w67fl5",
    "outputId": "3bc5b716-9a0a-487a-f58f-15dae3e6512c"
   },
   "outputs": [
    {
     "data": {
      "image/png": "[encoded data removed]",
      "text/plain": [
       "<Figure size 432x288 with 1 Axes>"
      ]
     },
     "metadata": {
      "needs_background": "light"
     },
     "output_type": "display_data"
    }
   ],
   "source": [
    "import matplotlib.pyplot as plt\n",
    "import numpy as np\n",
    "from sklearn import metrics\n",
    "fpr, tpr, thresholds = metrics.roc_curve(y_F, pred_F)\n",
    "roc_auc = metrics.auc(fpr, tpr)\n",
    "display = metrics.RocCurveDisplay(fpr=fpr, tpr=tpr, roc_auc=roc_auc, estimator_name='example estimator')\n",
    "display.plot()\n",
    "plt.show()"
   ]
  },
  {
   "cell_type": "code",
   "execution_count": null,
   "metadata": {
    "colab": {
     "base_uri": "https://localhost:8080/",
     "height": 279
    },
    "id": "wozc8awY7xMb",
    "outputId": "6e45ce38-38de-48bc-e83d-4c5813b38c62"
   },
   "outputs": [
    {
     "data": {
      "image/png": "[encoded data removed]",
      "text/plain": [
       "<Figure size 432x288 with 1 Axes>"
      ]
     },
     "metadata": {
      "needs_background": "light"
     },
     "output_type": "display_data"
    }
   ],
   "source": [
    "fpr, tpr, thresholds = metrics.roc_curve(y_M, pred_M)\n",
    "roc_auc = metrics.auc(fpr, tpr)\n",
    "display = metrics.RocCurveDisplay(fpr=fpr, tpr=tpr, roc_auc=roc_auc, estimator_name='example estimator')\n",
    "display.plot()\n",
    "plt.show()"
   ]
  },
  {
   "cell_type": "code",
   "execution_count": null,
   "metadata": {
    "id": "zHWJTCFvxsnO"
   },
   "outputs": [],
   "source": [
    "#fairness algorithm group fairness indicator for gender:\n",
    "#sub_group_auc_fairness_F = sub_group_auc(y_F, pred_fairness_F, 1)\n",
    "#sub_group_auc_fairness_M = sub_group_auc(y_M, pred_fairness_M, 1)\n",
    "#group_fairness_fair_algorithm_gender = sub_group_auc_fairness_F - sub_group_auc_fairness_M"
   ]
  },
  {
   "cell_type": "code",
   "execution_count": null,
   "metadata": {
    "id": "yheZU_pixsps"
   },
   "outputs": [],
   "source": [
    "#baseline group fairness indicator for gender:\n",
    "sub_group_auc_M = sub_group_auc(y_M, pred_M, 1)\n",
    "maxMin_fairness_baseline_gender = sub_group_auc_M"
   ]
  },
  {
   "cell_type": "code",
   "execution_count": null,
   "metadata": {
    "id": "4r1jc0OOxstG"
   },
   "outputs": [],
   "source": [
    "#fairness algorithm group fairness indicator for gender:\n",
    "#sub_group_auc_fairness_M = sub_group_auc(y_M, pred_fairness_M, 1)\n",
    "#maxMin_fairness_fair_algorithm_gender = sub_group_auc_fairness_M"
   ]
  }
 ],
 "metadata": {
  "accelerator": "GPU",
  "colab": {
   "provenance": []
  },
  "gpuClass": "standard",
  "kernelspec": {
   "display_name": "Python 3",
   "language": "python",
   "name": "python3"
  },
  "language_info": {
   "codemirror_mode": {
    "name": "ipython",
    "version": 3
   },
   "file_extension": ".py",
   "mimetype": "text/x-python",
   "name": "python",
   "nbconvert_exporter": "python",
   "pygments_lexer": "ipython3",
   "version": "3.9.12"
  }
 },
 "nbformat": 4,
 "nbformat_minor": 1
}
